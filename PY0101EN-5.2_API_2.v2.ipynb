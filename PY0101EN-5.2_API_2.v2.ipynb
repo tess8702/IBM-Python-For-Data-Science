{
 "cells": [
  {
   "cell_type": "markdown",
   "id": "e3bd9a9a-e6cd-4e18-b8f7-9eeab34507fb",
   "metadata": {},
   "source": [
    "<center>\n",
    "    <img src=\"https://cf-courses-data.s3.us.cloud-object-storage.appdomain.cloud/assets/logos/SN_web_lightmode.png\" width=\"300\" alt=\"cognitiveclass.ai logo\"  />\n",
    "</center>\n",
    "\n",
    "# Simple APIs\n",
    "\n",
    "## Random User and Fruitvice API Examples\n",
    "\n",
    "Estimated time needed: **25** minutes\n",
    "\n",
    "## Objectives\n",
    "\n",
    "After completing this lab you will be able to:\n",
    "\n",
    "*   Load and use RandomUser API, using `RandomUser()` Python library\n",
    "*   Load and use Fruitvice API, using `requests` Python library\n"
   ]
  },
  {
   "cell_type": "markdown",
   "id": "faf4be8b-61c2-4e40-9283-ce5633f26fe6",
   "metadata": {},
   "source": [
    "The purpose of this notebook is to provide more examples on how to use simple APIs. As you have already learned from previous videos and notebooks, API stands for Application Programming Interface and is a software intermediary that allows two applications to talk to each other.\n",
    "\n",
    "The advantages of using APIs:\n",
    "\n",
    "*   **Automation**. Less human effort is required and workflows can be easily updated to become faster and more\\\n",
    "    productive.\n",
    "*   **Efficiency**. It allows to use the capabilities of one of the already developed APIs than to try to\n",
    "    independently implement some functionality from scratch.\n",
    "\n",
    "The disadvantage of using APIs:\n",
    "\n",
    "*   **Secirity**. If the API is poorly integrated, it means it will be vulnerable to attacks, resulting in data\\\n",
    "    breeches or losses having financial or reputation implications.\n",
    "\n",
    "One of the applications we will use in this notebook is Random User Generator. RandomUser is an open-source, free API providing developers with randomly generated users to be used as placeholders for testing purposes. This makes the tool similar to Lorem Ipsum, but is a placeholder for people instead of text. The API can return multiple results, as well as specify generated user details such as gender, email, image, username, address, title, first and last name, and more. More information on [RandomUser](https://randomuser.me/documentation?utm_medium=Exinfluencer&utm_source=Exinfluencer&utm_content=000026UJ&utm_term=10006555&utm_id=NA-SkillsNetwork-Channel-SkillsNetworkCoursesIBMDeveloperSkillsNetworkPY0101ENSkillsNetwork19487395-2022-01-01#intro) can be found here.\n",
    "\n",
    "Another example of simple API we will use in this notebook is Fruitvice application. The Fruitvice API webservice which provides data for all kinds of fruit! You can use Fruityvice to find out interesting information about fruit and educate yourself. The webservice is completely free to use and contribute to.\n"
   ]
  },
  {
   "cell_type": "markdown",
   "id": "537afe79-8638-44ef-aa9a-afab5704f423",
   "metadata": {},
   "source": [
    "## Example 1: RandomUser API\n",
    "\n",
    "Bellow are Get Methods parameters that we can generate. For more information on the parameters, please visit this [documentation](https://randomuser.me/documentation?utm_medium=Exinfluencer&utm_source=Exinfluencer&utm_content=000026UJ&utm_term=10006555&utm_id=NA-SkillsNetwork-Channel-SkillsNetworkCoursesIBMDeveloperSkillsNetworkPY0101ENSkillsNetwork19487395-2022-01-01) page.\n"
   ]
  },
  {
   "cell_type": "markdown",
   "id": "13eff4b5-3528-4cc7-a012-b9a7d7795aab",
   "metadata": {},
   "source": [
    "## **Get Methods**\n",
    "\n",
    "*   get_cell()\n",
    "*   get_city()\n",
    "*   get_dob()\n",
    "*   get_email()\n",
    "*   get_first_name()\n",
    "*   get_full_name()\n",
    "*   get_gender()\n",
    "*   get_id()\n",
    "*   get_id_number()\n",
    "*   get_id_type()\n",
    "*   get_info()\n",
    "*   get_last_name()\n",
    "*   get_login_md5()\n",
    "*   get_login_salt()\n",
    "*   get_login_sha1()\n",
    "*   get_login_sha256()\n",
    "*   get_nat()\n",
    "*   get_password()\n",
    "*   get_phone()\n",
    "*   get_picture()\n",
    "*   get_postcode()\n",
    "*   get_registered()\n",
    "*   get_state()\n",
    "*   get_street()\n",
    "*   get_username()\n",
    "*   get_zipcode()\n"
   ]
  },
  {
   "cell_type": "markdown",
   "id": "272de567-28e5-41e5-a826-6004cb99599e",
   "metadata": {},
   "source": [
    "To start using the API you can install the `randomuser` library running the `pip install` command.\n"
   ]
  },
  {
   "cell_type": "code",
   "execution_count": 1,
   "id": "3303e087-be18-4df0-a4d3-fb907d33cf85",
   "metadata": {},
   "outputs": [
    {
     "name": "stdout",
     "output_type": "stream",
     "text": [
      "Collecting randomuser\n",
      "  Downloading randomuser-1.6.tar.gz (5.0 kB)\n",
      "  Preparing metadata (setup.py) ... \u001b[?25ldone\n",
      "\u001b[?25hBuilding wheels for collected packages: randomuser\n",
      "  Building wheel for randomuser (setup.py) ... \u001b[?25ldone\n",
      "\u001b[?25h  Created wheel for randomuser: filename=randomuser-1.6-py3-none-any.whl size=5067 sha256=303147ba2aef6776717d6a8305fdfae21bb5ab6ac0792b27905282baf156403f\n",
      "  Stored in directory: /home/jupyterlab/.cache/pip/wheels/21/10/7b/c13bc3e24a3c1000a34554802ad8aa0ff27df56366998a0473\n",
      "Successfully built randomuser\n",
      "Installing collected packages: randomuser\n",
      "Successfully installed randomuser-1.6\n"
     ]
    }
   ],
   "source": [
    "!pip install randomuser"
   ]
  },
  {
   "cell_type": "markdown",
   "id": "2e943801-2287-43e0-a0de-2e88c7ab2997",
   "metadata": {},
   "source": [
    "Then, we will load the necessary libraries.\n"
   ]
  },
  {
   "cell_type": "code",
   "execution_count": 2,
   "id": "2e6fb3ac-4b0a-4fd4-bafe-9ababb5cfef4",
   "metadata": {},
   "outputs": [],
   "source": [
    "from randomuser import RandomUser\n",
    "import pandas as pd"
   ]
  },
  {
   "cell_type": "markdown",
   "id": "609eb1c1-3c16-4381-acf0-896800a6afb6",
   "metadata": {},
   "source": [
    "First, we will create a random user object, r.\n"
   ]
  },
  {
   "cell_type": "code",
   "execution_count": 3,
   "id": "6d875f14-ef54-4c7a-9bfd-be93619558ac",
   "metadata": {},
   "outputs": [],
   "source": [
    "r = RandomUser()"
   ]
  },
  {
   "cell_type": "markdown",
   "id": "990d2b02-a1dd-4305-ba21-8729d929ab53",
   "metadata": {},
   "source": [
    "Then, using `generate_users()` function, we get a list of random 10 users.\n"
   ]
  },
  {
   "cell_type": "code",
   "execution_count": 4,
   "id": "719dd960-4819-4f29-8ce5-59d4560d9b81",
   "metadata": {},
   "outputs": [],
   "source": [
    "some_list = r.generate_users(10)"
   ]
  },
  {
   "cell_type": "code",
   "execution_count": 5,
   "id": "565f9b93-5dc0-4d59-a0f6-30b829a3748f",
   "metadata": {},
   "outputs": [
    {
     "data": {
      "text/plain": [
       "[<randomuser.RandomUser at 0x7efbda75c690>,\n",
       " <randomuser.RandomUser at 0x7efbda75c6d0>,\n",
       " <randomuser.RandomUser at 0x7efbda75c710>,\n",
       " <randomuser.RandomUser at 0x7efbda75c750>,\n",
       " <randomuser.RandomUser at 0x7efbda75c790>,\n",
       " <randomuser.RandomUser at 0x7efbda75c810>,\n",
       " <randomuser.RandomUser at 0x7efbda75c850>,\n",
       " <randomuser.RandomUser at 0x7efbda75c890>,\n",
       " <randomuser.RandomUser at 0x7efbda75c8d0>,\n",
       " <randomuser.RandomUser at 0x7efbda75c7d0>]"
      ]
     },
     "execution_count": 5,
     "metadata": {},
     "output_type": "execute_result"
    }
   ],
   "source": [
    "some_list"
   ]
  },
  {
   "cell_type": "markdown",
   "id": "29191364-9ae7-40f1-bdce-14ea874c9db9",
   "metadata": {},
   "source": [
    "The **\"Get Methods\"** functions mentioned at the beginning of this notebook, can generate the required parameters to construct a dataset. For example, to get full name, we call `get_full_name()` function.\n"
   ]
  },
  {
   "cell_type": "code",
   "execution_count": 6,
   "id": "98303bd3-435b-4487-8507-a4fa385237c2",
   "metadata": {},
   "outputs": [],
   "source": [
    "name = r.get_full_name()"
   ]
  },
  {
   "cell_type": "markdown",
   "id": "39e7ddac-414a-40b4-aec0-b2c93c6688d7",
   "metadata": {},
   "source": [
    "Let's say we only need 10 users with full names and their email addresses. We can write a \"for-loop\" to print these 10 users.\n"
   ]
  },
  {
   "cell_type": "code",
   "execution_count": 7,
   "id": "fc4df431-d0ee-403c-8ca7-725c082ead97",
   "metadata": {},
   "outputs": [
    {
     "name": "stdout",
     "output_type": "stream",
     "text": [
      "آوا مرادی   aw.mrdy@example.com\n",
      "Eelis Salonen   eelis.salonen@example.com\n",
      "Tilde Nielsen   tilde.nielsen@example.com\n",
      "Angelina Laurent   angelina.laurent@example.com\n",
      "Chanelle Pardoel   chanelle.pardoel@example.com\n",
      "Patrick Noel   patrick.noel@example.com\n",
      "Rajae Floor   rajae.floor@example.com\n",
      "Else Van Hartingsveldt   else.vanhartingsveldt@example.com\n",
      "Jake Lewis   jake.lewis@example.com\n",
      "Mathis Jean-Baptiste   mathis.jean-baptiste@example.com\n"
     ]
    }
   ],
   "source": [
    "for user in some_list:\n",
    "    print (user.get_full_name(),\" \",user.get_email())"
   ]
  },
  {
   "cell_type": "markdown",
   "id": "c3d42721-4e99-45a9-9b4b-8ba40e067af2",
   "metadata": {},
   "source": [
    "## Exercise 1\n",
    "\n",
    "In this Exercise, generate photos of the random 5 users.\n"
   ]
  },
  {
   "cell_type": "code",
   "execution_count": 11,
   "id": "aee864df-938c-41f8-b662-721bdb2fa07f",
   "metadata": {},
   "outputs": [
    {
     "name": "stdout",
     "output_type": "stream",
     "text": [
      "https://randomuser.me/api/portraits/men/54.jpg   edgar.hanson@example.com   male\n",
      "https://randomuser.me/api/portraits/women/87.jpg   laurie.ouellet@example.com   female\n",
      "https://randomuser.me/api/portraits/women/39.jpg   emily.rasmussen@example.com   female\n",
      "https://randomuser.me/api/portraits/men/18.jpg   mason.wells@example.com   male\n",
      "https://randomuser.me/api/portraits/men/88.jpg   lachlan.johnson@example.com   male\n"
     ]
    }
   ],
   "source": [
    "## Write your code here\n",
    "from randomuser import RandomUser\n",
    "import pandas as pd\n",
    "r = RandomUser()\n",
    "users=r.generate_users(5)\n",
    "users\n",
    "\n",
    "#pic=r.get_picture()\n",
    "\n",
    "for client in users:\n",
    "    print (client.get_picture(),\" \",client.get_email(),\" \",client.get_gender())"
   ]
  },
  {
   "cell_type": "markdown",
   "id": "e2d2f60d-38bb-4cc0-a3e1-632a2de2bac9",
   "metadata": {},
   "source": [
    "<details><summary>Click here for the solution</summary>\n",
    "\n",
    "```python\n",
    "for user in some_list:\n",
    "    print (user.get_picture())\n",
    "```\n",
    "\n",
    "</details>\n"
   ]
  },
  {
   "cell_type": "markdown",
   "id": "4fb049fa-6ae1-4844-88c8-9b4cb71945c1",
   "metadata": {},
   "source": [
    "To generate a table with information about the users, we can write a function containing all desirable parameters. For example, name, gender, city, etc. The parameters will depend on the requirements of the test to be performed. We call the Get Methods, listed at the beginning of this notebook. Then, we return pandas dataframe with the users.\n"
   ]
  },
  {
   "cell_type": "code",
   "execution_count": 16,
   "id": "5bef8951-0a24-4f52-83e2-7bdfe5249114",
   "metadata": {},
   "outputs": [],
   "source": [
    "def get_users():\n",
    "    users =[]\n",
    "     \n",
    "    for user in RandomUser.generate_users(5):\n",
    "        users.append({\"Name\":user.get_full_name(),\"Gender\":user.get_gender(),\"City\":user.get_city(),\"State\":user.get_state(),\"Email\":user.get_email(), \"DOB\":user.get_dob(),\"Picture\":user.get_picture()})\n",
    "      \n",
    "    return pd.DataFrame(users)     "
   ]
  },
  {
   "cell_type": "code",
   "execution_count": 18,
   "id": "c7d05c65-826e-4d96-9815-ebfbc5bae1a2",
   "metadata": {},
   "outputs": [
    {
     "data": {
      "text/html": [
       "<div>\n",
       "<style scoped>\n",
       "    .dataframe tbody tr th:only-of-type {\n",
       "        vertical-align: middle;\n",
       "    }\n",
       "\n",
       "    .dataframe tbody tr th {\n",
       "        vertical-align: top;\n",
       "    }\n",
       "\n",
       "    .dataframe thead th {\n",
       "        text-align: right;\n",
       "    }\n",
       "</style>\n",
       "<table border=\"1\" class=\"dataframe\">\n",
       "  <thead>\n",
       "    <tr style=\"text-align: right;\">\n",
       "      <th></th>\n",
       "      <th>Name</th>\n",
       "      <th>Gender</th>\n",
       "      <th>City</th>\n",
       "      <th>State</th>\n",
       "      <th>Email</th>\n",
       "      <th>DOB</th>\n",
       "      <th>Picture</th>\n",
       "    </tr>\n",
       "  </thead>\n",
       "  <tbody>\n",
       "    <tr>\n",
       "      <th>0</th>\n",
       "      <td>Harry Robinson</td>\n",
       "      <td>male</td>\n",
       "      <td>Invercargill</td>\n",
       "      <td>Taranaki</td>\n",
       "      <td>harry.robinson@example.com</td>\n",
       "      <td>1982-12-03T21:49:53.171Z</td>\n",
       "      <td>https://randomuser.me/api/portraits/men/8.jpg</td>\n",
       "    </tr>\n",
       "    <tr>\n",
       "      <th>1</th>\n",
       "      <td>Dora Jesus</td>\n",
       "      <td>female</td>\n",
       "      <td>Londrina</td>\n",
       "      <td>Paraná</td>\n",
       "      <td>dora.jesus@example.com</td>\n",
       "      <td>1957-02-06T10:10:13.225Z</td>\n",
       "      <td>https://randomuser.me/api/portraits/women/3.jpg</td>\n",
       "    </tr>\n",
       "    <tr>\n",
       "      <th>2</th>\n",
       "      <td>محیا نكو نظر</td>\n",
       "      <td>female</td>\n",
       "      <td>قائم‌شهر</td>\n",
       "      <td>همدان</td>\n",
       "      <td>mhy.nkwnzr@example.com</td>\n",
       "      <td>1990-10-26T13:12:29.134Z</td>\n",
       "      <td>https://randomuser.me/api/portraits/women/78.jpg</td>\n",
       "    </tr>\n",
       "    <tr>\n",
       "      <th>3</th>\n",
       "      <td>Eileen Stein</td>\n",
       "      <td>female</td>\n",
       "      <td>Bad Camberg</td>\n",
       "      <td>Sachsen-Anhalt</td>\n",
       "      <td>eileen.stein@example.com</td>\n",
       "      <td>1955-04-16T17:09:46.057Z</td>\n",
       "      <td>https://randomuser.me/api/portraits/women/56.jpg</td>\n",
       "    </tr>\n",
       "    <tr>\n",
       "      <th>4</th>\n",
       "      <td>Emre Yalçın</td>\n",
       "      <td>male</td>\n",
       "      <td>Şanlıurfa</td>\n",
       "      <td>Kilis</td>\n",
       "      <td>emre.yalcin@example.com</td>\n",
       "      <td>1984-06-05T00:42:45.144Z</td>\n",
       "      <td>https://randomuser.me/api/portraits/men/84.jpg</td>\n",
       "    </tr>\n",
       "  </tbody>\n",
       "</table>\n",
       "</div>"
      ],
      "text/plain": [
       "             Name  Gender          City           State  \\\n",
       "0  Harry Robinson    male  Invercargill        Taranaki   \n",
       "1      Dora Jesus  female      Londrina          Paraná   \n",
       "2    محیا نكو نظر  female      قائم‌شهر           همدان   \n",
       "3    Eileen Stein  female   Bad Camberg  Sachsen-Anhalt   \n",
       "4     Emre Yalçın    male     Şanlıurfa           Kilis   \n",
       "\n",
       "                        Email                       DOB  \\\n",
       "0  harry.robinson@example.com  1982-12-03T21:49:53.171Z   \n",
       "1      dora.jesus@example.com  1957-02-06T10:10:13.225Z   \n",
       "2      mhy.nkwnzr@example.com  1990-10-26T13:12:29.134Z   \n",
       "3    eileen.stein@example.com  1955-04-16T17:09:46.057Z   \n",
       "4     emre.yalcin@example.com  1984-06-05T00:42:45.144Z   \n",
       "\n",
       "                                            Picture  \n",
       "0     https://randomuser.me/api/portraits/men/8.jpg  \n",
       "1   https://randomuser.me/api/portraits/women/3.jpg  \n",
       "2  https://randomuser.me/api/portraits/women/78.jpg  \n",
       "3  https://randomuser.me/api/portraits/women/56.jpg  \n",
       "4    https://randomuser.me/api/portraits/men/84.jpg  "
      ]
     },
     "execution_count": 18,
     "metadata": {},
     "output_type": "execute_result"
    }
   ],
   "source": [
    "get_users()"
   ]
  },
  {
   "cell_type": "code",
   "execution_count": 20,
   "id": "0a2cda2a-a364-4e71-8c3a-39acac424728",
   "metadata": {},
   "outputs": [
    {
     "data": {
      "text/html": [
       "<div>\n",
       "<style scoped>\n",
       "    .dataframe tbody tr th:only-of-type {\n",
       "        vertical-align: middle;\n",
       "    }\n",
       "\n",
       "    .dataframe tbody tr th {\n",
       "        vertical-align: top;\n",
       "    }\n",
       "\n",
       "    .dataframe thead th {\n",
       "        text-align: right;\n",
       "    }\n",
       "</style>\n",
       "<table border=\"1\" class=\"dataframe\">\n",
       "  <thead>\n",
       "    <tr style=\"text-align: right;\">\n",
       "      <th></th>\n",
       "      <th>Name</th>\n",
       "      <th>Gender</th>\n",
       "      <th>City</th>\n",
       "      <th>State</th>\n",
       "      <th>Email</th>\n",
       "      <th>DOB</th>\n",
       "      <th>Picture</th>\n",
       "    </tr>\n",
       "  </thead>\n",
       "  <tbody>\n",
       "    <tr>\n",
       "      <th>0</th>\n",
       "      <td>Nolan Michel</td>\n",
       "      <td>male</td>\n",
       "      <td>Bordeaux</td>\n",
       "      <td>Guyane</td>\n",
       "      <td>nolan.michel@example.com</td>\n",
       "      <td>1949-07-27T11:21:29.549Z</td>\n",
       "      <td>https://randomuser.me/api/portraits/men/15.jpg</td>\n",
       "    </tr>\n",
       "    <tr>\n",
       "      <th>1</th>\n",
       "      <td>Phoebe Jones</td>\n",
       "      <td>female</td>\n",
       "      <td>Edenderry</td>\n",
       "      <td>Longford</td>\n",
       "      <td>phoebe.jones@example.com</td>\n",
       "      <td>1993-10-26T01:47:42.497Z</td>\n",
       "      <td>https://randomuser.me/api/portraits/women/36.jpg</td>\n",
       "    </tr>\n",
       "    <tr>\n",
       "      <th>2</th>\n",
       "      <td>Lily Brar</td>\n",
       "      <td>female</td>\n",
       "      <td>Hampstead</td>\n",
       "      <td>Alberta</td>\n",
       "      <td>lily.brar@example.com</td>\n",
       "      <td>1966-05-19T14:30:45.863Z</td>\n",
       "      <td>https://randomuser.me/api/portraits/women/70.jpg</td>\n",
       "    </tr>\n",
       "    <tr>\n",
       "      <th>3</th>\n",
       "      <td>Enora Dubois</td>\n",
       "      <td>female</td>\n",
       "      <td>Toulouse</td>\n",
       "      <td>Tarn</td>\n",
       "      <td>enora.dubois@example.com</td>\n",
       "      <td>1949-03-02T14:24:38.927Z</td>\n",
       "      <td>https://randomuser.me/api/portraits/women/53.jpg</td>\n",
       "    </tr>\n",
       "    <tr>\n",
       "      <th>4</th>\n",
       "      <td>Victor Ward</td>\n",
       "      <td>male</td>\n",
       "      <td>Sacramento</td>\n",
       "      <td>Wisconsin</td>\n",
       "      <td>victor.ward@example.com</td>\n",
       "      <td>1965-08-20T23:09:42.008Z</td>\n",
       "      <td>https://randomuser.me/api/portraits/men/12.jpg</td>\n",
       "    </tr>\n",
       "  </tbody>\n",
       "</table>\n",
       "</div>"
      ],
      "text/plain": [
       "           Name  Gender        City      State                     Email  \\\n",
       "0  Nolan Michel    male    Bordeaux     Guyane  nolan.michel@example.com   \n",
       "1  Phoebe Jones  female   Edenderry   Longford  phoebe.jones@example.com   \n",
       "2     Lily Brar  female   Hampstead    Alberta     lily.brar@example.com   \n",
       "3  Enora Dubois  female    Toulouse       Tarn  enora.dubois@example.com   \n",
       "4   Victor Ward    male  Sacramento  Wisconsin   victor.ward@example.com   \n",
       "\n",
       "                        DOB                                           Picture  \n",
       "0  1949-07-27T11:21:29.549Z    https://randomuser.me/api/portraits/men/15.jpg  \n",
       "1  1993-10-26T01:47:42.497Z  https://randomuser.me/api/portraits/women/36.jpg  \n",
       "2  1966-05-19T14:30:45.863Z  https://randomuser.me/api/portraits/women/70.jpg  \n",
       "3  1949-03-02T14:24:38.927Z  https://randomuser.me/api/portraits/women/53.jpg  \n",
       "4  1965-08-20T23:09:42.008Z    https://randomuser.me/api/portraits/men/12.jpg  "
      ]
     },
     "execution_count": 20,
     "metadata": {},
     "output_type": "execute_result"
    }
   ],
   "source": [
    "df1 = pd.DataFrame(get_users())  \n",
    "df1"
   ]
  },
  {
   "cell_type": "markdown",
   "id": "27c8eac9-b382-4df2-aaf3-82837d111ba2",
   "metadata": {},
   "source": [
    "Now we have a *pandas* dataframe that can be used for any testing purposes that the tester might have.\n"
   ]
  },
  {
   "cell_type": "markdown",
   "id": "48bed39a-4530-4a43-bfee-dda5c4ed8680",
   "metadata": {},
   "source": [
    "## Example 2: Fruitvice API\n",
    "\n",
    "Another, more common way to use APIs, is through `requests` library. The next lab, Requests and HTTP, will contain more information about requests.\n",
    "\n",
    "We will start by importing all required libraries.\n"
   ]
  },
  {
   "cell_type": "code",
   "execution_count": 21,
   "id": "b870d2df-34b7-40ab-8590-3f332c98dd29",
   "metadata": {},
   "outputs": [],
   "source": [
    "import requests\n",
    "import json"
   ]
  },
  {
   "cell_type": "markdown",
   "id": "cc03067a-d7fc-4fec-b40f-edbc377edf70",
   "metadata": {},
   "source": [
    "We will obtain the [fruitvice](https://www.fruityvice.com/?utm_medium=Exinfluencer&utm_source=Exinfluencer&utm_content=000026UJ&utm_term=10006555&utm_id=NA-SkillsNetwork-Channel-SkillsNetworkCoursesIBMDeveloperSkillsNetworkPY0101ENSkillsNetwork19487395-2022-01-01) API data using `requests.get(\"url\")` function. The data is in a json format.\n"
   ]
  },
  {
   "cell_type": "code",
   "execution_count": 32,
   "id": "d6666070-6137-4fb0-8ae0-685ca9fa6263",
   "metadata": {},
   "outputs": [
    {
     "data": {
      "text/plain": [
       "{'Server': 'nginx/1.16.1', 'Date': 'Wed, 26 Oct 2022 15:27:29 GMT', 'Content-Type': 'text/plain;charset=UTF-8', 'Content-Length': '10265', 'Connection': 'keep-alive', 'X-Content-Type-Options': 'nosniff', 'X-XSS-Protection': '1; mode=block', 'Cache-Control': 'no-cache, no-store, max-age=0, must-revalidate', 'Pragma': 'no-cache', 'Expires': '0', 'X-Frame-Options': 'DENY'}"
      ]
     },
     "execution_count": 32,
     "metadata": {},
     "output_type": "execute_result"
    }
   ],
   "source": [
    "data = requests.get(\"https://www.fruityvice.com/api/fruit/all\")\n",
    "data.headers\n",
    "#data.text"
   ]
  },
  {
   "cell_type": "markdown",
   "id": "602ef509-8362-4351-81f4-37d36d0faf3b",
   "metadata": {},
   "source": [
    "We will retrieve results using `json.loads()` function.\n"
   ]
  },
  {
   "cell_type": "code",
   "execution_count": 27,
   "id": "e55d1575-5106-46bf-a24f-870d6f166592",
   "metadata": {},
   "outputs": [],
   "source": [
    "results = json.loads(data.text)"
   ]
  },
  {
   "cell_type": "markdown",
   "id": "864df24c-6982-4ccd-9feb-8ff361fe00b5",
   "metadata": {},
   "source": [
    "We will convert our json data into *pandas* data frame.\n"
   ]
  },
  {
   "cell_type": "code",
   "execution_count": 64,
   "id": "cc5b0a48-1711-45c5-92cc-1082f63c6d09",
   "metadata": {},
   "outputs": [],
   "source": [
    "#pd.DataFrame(results)"
   ]
  },
  {
   "cell_type": "markdown",
   "id": "c88b2014-6130-4cbd-ae14-9256f9f0e1be",
   "metadata": {},
   "source": [
    "The result is in a nested json format. The 'nutrition' column contains multiple subcolumns, so the data needs to be 'flattened' or normalized.\n"
   ]
  },
  {
   "cell_type": "code",
   "execution_count": 33,
   "id": "b209d6c5-ab68-42c0-a17e-ee416afc84fd",
   "metadata": {},
   "outputs": [],
   "source": [
    "df2 = pd.json_normalize(results)"
   ]
  },
  {
   "cell_type": "code",
   "execution_count": 56,
   "id": "e76145a4-f77c-42c6-9b75-1f380b734de1",
   "metadata": {},
   "outputs": [],
   "source": [
    "#df2"
   ]
  },
  {
   "cell_type": "markdown",
   "id": "6e8f04a8-37c8-49a1-984a-7a4e748ca58d",
   "metadata": {},
   "source": [
    "Let's see if we can extract some information from this dataframe. Perhaps, we need to know the family and genus of a cherry.\n"
   ]
  },
  {
   "cell_type": "code",
   "execution_count": 52,
   "id": "8a425265-e4b9-4451-a0bb-7f8f41a84cd7",
   "metadata": {},
   "outputs": [
    {
     "data": {
      "text/html": [
       "<div>\n",
       "<style scoped>\n",
       "    .dataframe tbody tr th:only-of-type {\n",
       "        vertical-align: middle;\n",
       "    }\n",
       "\n",
       "    .dataframe tbody tr th {\n",
       "        vertical-align: top;\n",
       "    }\n",
       "\n",
       "    .dataframe thead th {\n",
       "        text-align: right;\n",
       "    }\n",
       "</style>\n",
       "<table border=\"1\" class=\"dataframe\">\n",
       "  <thead>\n",
       "    <tr style=\"text-align: right;\">\n",
       "      <th></th>\n",
       "      <th>genus</th>\n",
       "      <th>name</th>\n",
       "      <th>id</th>\n",
       "      <th>family</th>\n",
       "      <th>order</th>\n",
       "      <th>nutritions.carbohydrates</th>\n",
       "      <th>nutritions.protein</th>\n",
       "      <th>nutritions.fat</th>\n",
       "      <th>nutritions.calories</th>\n",
       "      <th>nutritions.sugar</th>\n",
       "    </tr>\n",
       "  </thead>\n",
       "  <tbody>\n",
       "    <tr>\n",
       "      <th>6</th>\n",
       "      <td>Prunus</td>\n",
       "      <td>Cherry</td>\n",
       "      <td>9</td>\n",
       "      <td>Rosaceae</td>\n",
       "      <td>None</td>\n",
       "      <td>12.0</td>\n",
       "      <td>1.0</td>\n",
       "      <td>0.3</td>\n",
       "      <td>50</td>\n",
       "      <td>8.0</td>\n",
       "    </tr>\n",
       "  </tbody>\n",
       "</table>\n",
       "</div>"
      ],
      "text/plain": [
       "    genus    name  id    family order  nutritions.carbohydrates  \\\n",
       "6  Prunus  Cherry   9  Rosaceae  None                      12.0   \n",
       "\n",
       "   nutritions.protein  nutritions.fat  nutritions.calories  nutritions.sugar  \n",
       "6                 1.0             0.3                   50               8.0  "
      ]
     },
     "execution_count": 52,
     "metadata": {},
     "output_type": "execute_result"
    }
   ],
   "source": [
    "cherry = df2.loc[df2[\"name\"] == 'Cherry']\n",
    "cherry\n",
    "\n",
    "(cherry.iloc[0]['family']) , (cherry.iloc[0]['genus'])\n",
    "df2.columns\n",
    "\n",
    "df2[\"name\"] == 'Cherry'\n",
    "df2.loc[df2[\"name\"] == 'Cherry',:]\n",
    "\n"
   ]
  },
  {
   "cell_type": "markdown",
   "id": "a6e6e78b-a6e4-4c1c-bd7d-a312f7fa0b2e",
   "metadata": {},
   "source": [
    "## Exercise 2\n",
    "\n",
    "In this Exercise, find out how many calories are contained in a banana.\n"
   ]
  },
  {
   "cell_type": "code",
   "execution_count": 55,
   "id": "98c1ffd5-6dfd-4b7c-8481-6eaff8caa42a",
   "metadata": {},
   "outputs": [
    {
     "data": {
      "text/plain": [
       "('Banana', 96)"
      ]
     },
     "execution_count": 55,
     "metadata": {},
     "output_type": "execute_result"
    }
   ],
   "source": [
    "# Write your code here\n",
    "banana=df2.loc[df2[\"name\"] == 'Banana']\n",
    "(banana.iloc[0]['name']),(banana.iloc[0]['nutritions.calories'])"
   ]
  },
  {
   "cell_type": "markdown",
   "id": "095b6c19-6864-4b2e-91c3-61c2a7ee7e46",
   "metadata": {},
   "source": [
    "<details><summary>Click here for the solution</summary>\n",
    "\n",
    "```python\n",
    "cal_banana = df2.loc[df2[\"name\"] == 'Banana']\n",
    "cal_banana.iloc[0]['nutritions.calories']\n",
    "```\n",
    "\n",
    "</details>\n"
   ]
  },
  {
   "cell_type": "markdown",
   "id": "963fbca0-2671-4bd3-a194-3e8d7a03316d",
   "metadata": {},
   "source": [
    "## Exercise 3\n",
    "\n",
    "This [page](https://github.com/public-apis/public-apis#animals) contains a list of free public APIs. Choose any API of your interest and use it to load/extract some information, as shown in the example above.\n",
    "\n",
    "1.  Using `requests.get(\"url\")` function, load your data.\n"
   ]
  },
  {
   "cell_type": "code",
   "execution_count": null,
   "id": "a8170667-71cd-43d9-b57e-3cd8f7688cb1",
   "metadata": {},
   "outputs": [],
   "source": [
    "# Write your code here\n",
    "import requests\n",
    "import json\n",
    "import pandas as pd\n",
    "\n",
    "url=\"https://www.fishwatch.gov/api/species\"\n",
    "\n",
    "g=requests.get(url)\n",
    "g.status_code\n",
    "\n",
    "\n",
    "\n"
   ]
  },
  {
   "cell_type": "markdown",
   "id": "e9626816-af9c-4d70-84bc-ba650b79ca74",
   "metadata": {},
   "source": [
    "<details><summary>Click here for the solution</summary>\n",
    "\n",
    "```python\n",
    "data2 = requests.get(\"https://www.fishwatch.gov/api/species\")\n",
    "```\n",
    "\n",
    "</details>\n"
   ]
  },
  {
   "cell_type": "markdown",
   "id": "a94bb99b-a701-498b-ae22-cf091c3d6be7",
   "metadata": {},
   "source": [
    "2.  Retrieve results using `json.loads()` function.\n"
   ]
  },
  {
   "cell_type": "code",
   "execution_count": null,
   "id": "dc098952-1a2a-4790-8440-e4c310cef86d",
   "metadata": {},
   "outputs": [],
   "source": [
    "# Write your code here\n",
    "results=json.loads(g.text)"
   ]
  },
  {
   "cell_type": "markdown",
   "id": "7945c3a0-6349-4180-ac0b-30db1caf72f6",
   "metadata": {},
   "source": [
    "<details><summary>Click here for the solution</summary>\n",
    "\n",
    "```python\n",
    "results2 = json.loads(data2.text)\n",
    "```\n",
    "\n",
    "</details>\n"
   ]
  },
  {
   "cell_type": "markdown",
   "id": "751dfb83-972c-49e9-9e93-a92af4c111a9",
   "metadata": {},
   "source": [
    "3.  Convert json data into *pandas* data frame.\n"
   ]
  },
  {
   "cell_type": "code",
   "execution_count": null,
   "id": "f1cf0945-2383-4554-b924-95e7abf1c30b",
   "metadata": {},
   "outputs": [],
   "source": [
    "# Write your code here\n",
    "data=pd.DataFrame(results)\n",
    "data"
   ]
  },
  {
   "cell_type": "markdown",
   "id": "1bcd9fe8-9ee8-44eb-a02e-36a8c3c6023c",
   "metadata": {},
   "source": [
    "\n",
    "<details><summary>Click here for the solution</summary>\n",
    "\n",
    "```python\n",
    "df3 = pd.DataFrame(results2)\n",
    "df3\n",
    "```\n",
    "\n",
    "</details>\n"
   ]
  },
  {
   "cell_type": "markdown",
   "id": "17a05264-ae66-4eb0-bf17-6da7dcf329d3",
   "metadata": {},
   "source": [
    "# Congratulations! - You have completed the lab\n"
   ]
  },
  {
   "cell_type": "markdown",
   "id": "5d2605ca-4f86-4c26-8d36-4c4632f9071e",
   "metadata": {},
   "source": [
    "## Author\n",
    "\n",
    "[Svitlana Kramar](https://www.linkedin.com/in/svitlana-kramar?utm_medium=Exinfluencer&utm_source=Exinfluencer&utm_content=000026UJ&utm_term=10006555&utm_id=NA-SkillsNetwork-Channel-SkillsNetworkCoursesIBMDeveloperSkillsNetworkPY0101ENSkillsNetwork19487395-2022-01-01)\n",
    "\n",
    "Svitlana is a master’s degree Data Science and Analytics student at University of Calgary, who enjoys travelling, learning new languages and cultures and loves spreading her passion for Data Science.\n"
   ]
  },
  {
   "cell_type": "markdown",
   "id": "c47f20b7-8df8-47d1-ab82-c14dbde12258",
   "metadata": {},
   "source": [
    "Copyright © 2020 IBM Corporation. All rights reserved.\n"
   ]
  }
 ],
 "metadata": {
  "kernelspec": {
   "display_name": "Python",
   "language": "python",
   "name": "conda-env-python-py"
  },
  "language_info": {
   "codemirror_mode": {
    "name": "ipython",
    "version": 3
   },
   "file_extension": ".py",
   "mimetype": "text/x-python",
   "name": "python",
   "nbconvert_exporter": "python",
   "pygments_lexer": "ipython3",
   "version": "3.7.12"
  }
 },
 "nbformat": 4,
 "nbformat_minor": 5
}
